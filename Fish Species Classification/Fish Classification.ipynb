{
 "cells": [
  {
   "cell_type": "code",
   "execution_count": 17,
   "metadata": {},
   "outputs": [
    {
     "data": {
      "text/plain": [
       "<torch._C.Generator at 0x21668618190>"
      ]
     },
     "execution_count": 17,
     "metadata": {},
     "output_type": "execute_result"
    }
   ],
   "source": [
    "import torchvision\n",
    "from torchvision import transforms\n",
    "import torch\n",
    "import torch.nn as nn\n",
    "import torch.nn.functional as F\n",
    "import torch.optim as optim\n",
    "import torchmetrics\n",
    "\n",
    "torch.manual_seed(42)"
   ]
  },
  {
   "cell_type": "code",
   "execution_count": 18,
   "metadata": {},
   "outputs": [],
   "source": [
    "transform = transforms.Compose([\n",
    "    transforms.Resize((1024,768)),\n",
    "    transforms.ToTensor(),\n",
    "    transforms.Normalize((0.5, 0.5, 0.5), (0.5, 0.5, 0.5)),\n",
    "])"
   ]
  },
  {
   "cell_type": "code",
   "execution_count": 19,
   "metadata": {},
   "outputs": [],
   "source": [
    "PATH = \"C:/Datasets/Fish Dataset\"\n",
    "\n",
    "trainData=torchvision.datasets.ImageFolder(PATH+\"/train\",transform=transform)\n",
    "testData=torchvision.datasets.ImageFolder(PATH+\"/test\",transform=transform)"
   ]
  },
  {
   "cell_type": "code",
   "execution_count": 20,
   "metadata": {},
   "outputs": [
    {
     "data": {
      "text/plain": [
       "{'Black Sea Sprat': 0,\n",
       " 'Gilt Head Bream': 1,\n",
       " 'Horse Mackerel': 2,\n",
       " 'Red Mullet': 3,\n",
       " 'Red Sea Bream': 4,\n",
       " 'Sea Bass': 5,\n",
       " 'Shrimp': 6,\n",
       " 'Striped Red Mullet': 7,\n",
       " 'Trout': 8}"
      ]
     },
     "execution_count": 20,
     "metadata": {},
     "output_type": "execute_result"
    }
   ],
   "source": [
    "trainData.class_to_idx"
   ]
  },
  {
   "cell_type": "code",
   "execution_count": 21,
   "metadata": {},
   "outputs": [
    {
     "data": {
      "text/plain": [
       "{'Black Sea Sprat': 0,\n",
       " 'Gilt Head Bream': 1,\n",
       " 'Horse Mackerel': 2,\n",
       " 'Red Mullet': 3,\n",
       " 'Red Sea Bream': 4,\n",
       " 'Sea Bass': 5,\n",
       " 'Shrimp': 6,\n",
       " 'Striped Red Mullet': 7,\n",
       " 'Trout': 8}"
      ]
     },
     "execution_count": 21,
     "metadata": {},
     "output_type": "execute_result"
    }
   ],
   "source": [
    "testData.class_to_idx"
   ]
  },
  {
   "cell_type": "code",
   "execution_count": 22,
   "metadata": {},
   "outputs": [],
   "source": [
    "class Net(nn.Module):\n",
    "    \"\"\"Some Information about Net\"\"\"\n",
    "    def __init__(self):\n",
    "        super(Net, self).__init__()\n",
    "        self.conv=nn.Conv2d(3,4,5)\n",
    "        self.pool=nn.MaxPool2d(5,5)\n",
    "        self.fc1=nn.Linear(124032,4640)\n",
    "        self.output=nn.Linear(4640,9)\n",
    "\n",
    "    def forward(self, x):\n",
    "        x=self.pool(F.relu(self.conv(x)))\n",
    "        x=torch.flatten(x,1)\n",
    "        x=F.relu(self.fc1(x))\n",
    "        x=F.softmax(self.output(x))\n",
    "        return x"
   ]
  },
  {
   "cell_type": "code",
   "execution_count": 23,
   "metadata": {},
   "outputs": [],
   "source": [
    "trainLoader = torch.utils.data.DataLoader(trainData, batch_size=16, shuffle=True)\n",
    "testLoader = torch.utils.data.DataLoader(testData, batch_size=16, shuffle=True)"
   ]
  },
  {
   "cell_type": "code",
   "execution_count": 24,
   "metadata": {},
   "outputs": [],
   "source": [
    "device = device = torch.device('cpu')\n",
    "net=Net().to(device)\n",
    "optimizer = torch.optim.SGD(net.parameters(), lr=0.01)\n",
    "criterion=torch.nn.CrossEntropyLoss()\n"
   ]
  },
  {
   "cell_type": "code",
   "execution_count": 25,
   "metadata": {},
   "outputs": [
    {
     "name": "stderr",
     "output_type": "stream",
     "text": [
      "C:\\Users\\Ashwin\\AppData\\Local\\Temp/ipykernel_11836/3306342307.py:14: UserWarning: Implicit dimension choice for softmax has been deprecated. Change the call to include dim=X as an argument.\n",
      "  x=F.softmax(self.output(x))\n"
     ]
    }
   ],
   "source": [
    "\n",
    "# loop over the dataset multiple times\n",
    "metrics={\n",
    "    'batch_loss':[],\n",
    "    'epoch_loss':[],\n",
    "    'batch_acc':[],\n",
    "    'epoch_acc':[]\n",
    "}\n",
    "\n",
    "acc=torchmetrics.Accuracy()\n",
    "for epoch in range(5):\n",
    "    epoch_loss=0.0\n",
    "    count=0\n",
    "    accuracy=0.0\n",
    "    for i, data in enumerate(trainLoader, 0):\n",
    "        inputs, labels = data\n",
    "        inputs, labels = inputs.to(device), labels.to(device)\n",
    "\n",
    "        # zero the parameter gradients\n",
    "        optimizer.zero_grad()\n",
    "\n",
    "        # forward + backward + optimize\n",
    "        outputs = net(inputs)\n",
    "        outputs=outputs.to(device)\n",
    "        loss = criterion(outputs, labels)\n",
    "        loss.backward()\n",
    "        optimizer.step()\n",
    "        epoch_loss+=loss.item()\n",
    "        count+=1\n",
    "        metrics['batch_acc'].append(acc(outputs.to('cpu'),labels.to('cpu')).item())\n",
    "        metrics['batch_loss'].append(loss.item())\n",
    "        accuracy += acc(outputs.to('cpu'), labels.to('cpu'))\n",
    "    epoch_loss=epoch_loss/count\n",
    "    epoch_acc=accuracy/count\n",
    "    metrics['epoch_acc'].append(epoch_acc.item())\n",
    "    metrics['epoch_loss'].append(epoch_loss)\n",
    "    print('Loss: {}'.format(epoch_loss))\n",
    "    print('Accuracy: {}'.format(accuracy))\n",
    "print(\"Finished Training\")\n"
   ]
  },
  {
   "cell_type": "code",
   "execution_count": null,
   "metadata": {},
   "outputs": [
    {
     "name": "stderr",
     "output_type": "stream",
     "text": [
      "C:\\Users\\Ashwin\\AppData\\Local\\Temp/ipykernel_11836/3306342307.py:14: UserWarning: Implicit dimension choice for softmax has been deprecated. Change the call to include dim=X as an argument.\n",
      "  x=F.softmax(self.output(x))\n"
     ]
    },
    {
     "name": "stdout",
     "output_type": "stream",
     "text": [
      "Loss: 1.6330580711364746\n",
      "Accuracy: 7.999999046325684\n",
      "Finished Testing\n"
     ]
    }
   ],
   "source": [
    "\n",
    "# loop over the dataset multiple times\n",
    "metrics2 = {\n",
    "    'batch_loss': [],\n",
    "    'epoch_loss': [],\n",
    "    'batch_acc': [],\n",
    "    'epoch_acc': []\n",
    "}\n",
    "net.eval()\n",
    "acc = torchmetrics.Accuracy()\n",
    "with torch.no_grad():\n",
    "    epoch_loss = 0.0\n",
    "    count = 0\n",
    "    accuracy = 0.0\n",
    "    for i, data in enumerate(testLoader, 0):\n",
    "        inputs, labels = data\n",
    "        inputs, labels = inputs.to(device), labels.to(device)\n",
    "        outputs = net(inputs)\n",
    "        outputs = outputs.to(device)\n",
    "        epoch_loss += loss.item()\n",
    "        count += 1\n",
    "        metrics2['batch_acc'].append(acc(outputs.to('cpu'), labels.to('cpu')).item())\n",
    "        metrics2['batch_loss'].append(loss.item())\n",
    "        accuracy += acc(outputs.to('cpu'), labels.to('cpu'))\n",
    "    epoch_loss = epoch_loss/count\n",
    "    epoch_acc = accuracy/count\n",
    "    metrics2['epoch_acc'].append(epoch_acc.item())\n",
    "    metrics2['epoch_loss'].append(epoch_loss)\n",
    "    print('Loss: {}'.format(epoch_loss))\n",
    "    print('Accuracy: {}'.format(accuracy))\n",
    "print(\"Finished Testing\")\n"
   ]
  },
  {
   "cell_type": "code",
   "execution_count": null,
   "metadata": {},
   "outputs": [
    {
     "data": {
      "text/plain": [
       "[0.20000000298023224,\n",
       " 0.20000000298023224,\n",
       " 0.4000000059604645,\n",
       " 0.20000000298023224,\n",
       " 0.4000000059604645,\n",
       " 0.20000000298023224,\n",
       " 0.20000000298023224,\n",
       " 0.4000000059604645,\n",
       " 0.0,\n",
       " 0.6000000238418579,\n",
       " 0.6000000238418579,\n",
       " 0.4000000059604645,\n",
       " 0.20000000298023224,\n",
       " 0.0,\n",
       " 0.4000000059604645,\n",
       " 0.20000000298023224,\n",
       " 0.20000000298023224,\n",
       " 0.4000000059604645,\n",
       " 0.20000000298023224,\n",
       " 0.4000000059604645,\n",
       " 0.20000000298023224,\n",
       " 0.4000000059604645,\n",
       " 0.20000000298023224,\n",
       " 0.20000000298023224,\n",
       " 0.4000000059604645,\n",
       " 0.6000000238418579,\n",
       " 0.20000000298023224,\n",
       " 0.0]"
      ]
     },
     "execution_count": 14,
     "metadata": {},
     "output_type": "execute_result"
    }
   ],
   "source": [
    "metrics2['batch_acc']"
   ]
  },
  {
   "cell_type": "code",
   "execution_count": null,
   "metadata": {},
   "outputs": [],
   "source": [
    "import matplotlib.pyplot as plt"
   ]
  },
  {
   "cell_type": "code",
   "execution_count": null,
   "metadata": {},
   "outputs": [
    {
     "data": {
      "text/plain": [
       "[<matplotlib.lines.Line2D at 0x21716309c40>]"
      ]
     },
     "execution_count": 16,
     "metadata": {},
     "output_type": "execute_result"
    },
    {
     "data": {
      "image/png": "[encoded data removed]",
      "text/plain": [
       "<Figure size 432x288 with 1 Axes>"
      ]
     },
     "metadata": {
      "needs_background": "light"
     },
     "output_type": "display_data"
    }
   ],
   "source": [
    "plt.plot(metrics2['batch_acc'])"
   ]
  },
  {
   "cell_type": "code",
   "execution_count": null,
   "metadata": {},
   "outputs": [],
   "source": []
  }
 ],
 "metadata": {
  "interpreter": {
   "hash": "f375280c252d8492f9929f545102be4436b56b7b9d809e2d50f7485678504f56"
  },
  "kernelspec": {
   "display_name": "Python 3.9.5 64-bit ('base': conda)",
   "name": "python3"
  },
  "language_info": {
   "codemirror_mode": {
    "name": "ipython",
    "version": 3
   },
   "file_extension": ".py",
   "mimetype": "text/x-python",
   "name": "python",
   "nbconvert_exporter": "python",
   "pygments_lexer": "ipython3",
   "version": "3.9.5"
  },
  "orig_nbformat": 4
 },
 "nbformat": 4,
 "nbformat_minor": 2
}
