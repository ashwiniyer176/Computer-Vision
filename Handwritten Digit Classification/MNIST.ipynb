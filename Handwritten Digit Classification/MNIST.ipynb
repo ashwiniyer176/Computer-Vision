{
 "cells": [
  {
   "cell_type": "code",
   "execution_count": 1,
   "id": "d766393f",
   "metadata": {},
   "outputs": [
    {
     "name": "stderr",
     "output_type": "stream",
     "text": [
      "C:\\Users\\Ashwin\\miniconda3\\envs\\PyTorch\\lib\\site-packages\\torchvision\\io\\image.py:11: UserWarning: Failed to load image Python extension: Could not find module 'C:\\Users\\Ashwin\\miniconda3\\envs\\PyTorch\\Lib\\site-packages\\torchvision\\image.pyd' (or one of its dependencies). Try using the full path with constructor syntax.\n",
      "  warn(f\"Failed to load image Python extension: {e}\")\n"
     ]
    }
   ],
   "source": [
    "import torch\n",
    "import torchvision\n",
    "from torchvision import datasets,transforms\n",
    "from torch.utils.data import DataLoader, Dataset\n",
    "import numpy as np"
   ]
  },
  {
   "cell_type": "code",
   "execution_count": 2,
   "id": "f90d857d",
   "metadata": {},
   "outputs": [],
   "source": [
    "transform=transforms.Compose([\n",
    "    transforms.ToTensor(),\n",
    "    transforms.Normalize(mean=(0.1307,),std=(0.3081))\n",
    "])"
   ]
  },
  {
   "cell_type": "code",
   "execution_count": 3,
   "id": "888a09c4",
   "metadata": {},
   "outputs": [],
   "source": [
    "training_data=torchvision.datasets.MNIST(root='C:/Datasets',train=True, transform=transform,download=True)"
   ]
  },
  {
   "cell_type": "code",
   "execution_count": 4,
   "id": "361e981d",
   "metadata": {},
   "outputs": [],
   "source": [
    "trainLoader=DataLoader(training_data,batch_size=64,shuffle=True)"
   ]
  },
  {
   "cell_type": "code",
   "execution_count": 5,
   "id": "7fa4b967",
   "metadata": {},
   "outputs": [
    {
     "name": "stdout",
     "output_type": "stream",
     "text": [
      "torch.Size([64, 1, 28, 28]) torch.Size([64])\n"
     ]
    }
   ],
   "source": [
    "for images,labels in trainLoader:\n",
    "    print(images.size(),labels.size())\n",
    "    break\n",
    "    "
   ]
  },
  {
   "cell_type": "code",
   "execution_count": 6,
   "id": "fadaf90f",
   "metadata": {},
   "outputs": [],
   "source": [
    "batches=iter(trainLoader)"
   ]
  },
  {
   "cell_type": "code",
   "execution_count": 7,
   "id": "099241ce",
   "metadata": {},
   "outputs": [
    {
     "data": {
      "text/plain": [
       "<torch.utils.data.dataloader._SingleProcessDataLoaderIter at 0x225d91d15b0>"
      ]
     },
     "execution_count": 7,
     "metadata": {},
     "output_type": "execute_result"
    }
   ],
   "source": [
    "batches"
   ]
  },
  {
   "cell_type": "code",
   "execution_count": 8,
   "id": "b526ebb2",
   "metadata": {},
   "outputs": [],
   "source": [
    "one_batch=next(batches)"
   ]
  },
  {
   "cell_type": "code",
   "execution_count": 9,
   "id": "5bd423ca",
   "metadata": {},
   "outputs": [
    {
     "data": {
      "text/plain": [
       "torch.Size([64])"
      ]
     },
     "execution_count": 9,
     "metadata": {},
     "output_type": "execute_result"
    }
   ],
   "source": [
    "one_batch[1].size()"
   ]
  },
  {
   "cell_type": "code",
   "execution_count": 10,
   "id": "a0cdd10e",
   "metadata": {},
   "outputs": [
    {
     "name": "stdout",
     "output_type": "stream",
     "text": [
      "torch.Size([64, 1, 28, 28]) torch.Size([64])\n"
     ]
    }
   ],
   "source": [
    "images,labels=one_batch\n",
    "print(images.size(),labels.size())"
   ]
  },
  {
   "cell_type": "code",
   "execution_count": 11,
   "id": "7cecb821",
   "metadata": {},
   "outputs": [],
   "source": [
    "import matplotlib.pyplot as plt"
   ]
  },
  {
   "cell_type": "code",
   "execution_count": 12,
   "id": "f838784a",
   "metadata": {},
   "outputs": [
    {
     "data": {
      "text/plain": [
       "<matplotlib.image.AxesImage at 0x225f9e34ee0>"
      ]
     },
     "execution_count": 12,
     "metadata": {},
     "output_type": "execute_result"
    },
    {
     "data": {
      "image/png": "[encoded data removed]",
      "text/plain": [
       "<Figure size 432x288 with 1 Axes>"
      ]
     },
     "metadata": {
      "needs_background": "light"
     },
     "output_type": "display_data"
    }
   ],
   "source": [
    "plt.imshow(torch.squeeze(images[0]),cmap='Greys_r')"
   ]
  },
  {
   "cell_type": "code",
   "execution_count": 13,
   "id": "b970b45d",
   "metadata": {},
   "outputs": [],
   "source": [
    "testing_data=torchvision.datasets.MNIST(root='C:/Datasets',train=False, transform=transform,download=True)"
   ]
  },
  {
   "cell_type": "code",
   "execution_count": 14,
   "id": "939915e9",
   "metadata": {},
   "outputs": [],
   "source": [
    "testLoader=DataLoader(testing_data,batch_size=64,shuffle=True)"
   ]
  },
  {
   "cell_type": "code",
   "execution_count": 15,
   "id": "349ce64d",
   "metadata": {},
   "outputs": [
    {
     "data": {
      "text/plain": [
       "64"
      ]
     },
     "execution_count": 15,
     "metadata": {},
     "output_type": "execute_result"
    }
   ],
   "source": [
    "len(one_batch[1])"
   ]
  },
  {
   "cell_type": "code",
   "execution_count": 16,
   "id": "2c4a4862",
   "metadata": {},
   "outputs": [],
   "source": [
    "import torch.nn as nn"
   ]
  },
  {
   "cell_type": "code",
   "execution_count": 17,
   "id": "742329b7",
   "metadata": {},
   "outputs": [],
   "source": [
    "class Net(nn.Module):\n",
    "    def __init__(self):\n",
    "        super().__init__()\n",
    "        self.conv1 = nn.Sequential(         \n",
    "            nn.Conv2d(\n",
    "                in_channels=1,              \n",
    "                out_channels=3,            \n",
    "                kernel_size=5,              \n",
    "                stride=1,                   \n",
    "                padding=2,                  \n",
    "            ),                              \n",
    "            nn.ReLU(),                      \n",
    "            nn.MaxPool2d(kernel_size=2),    \n",
    "        )\n",
    "        self.conv2 = nn.Sequential(         \n",
    "            nn.Conv2d(3, 32, 5, 1, 2),     \n",
    "            nn.ReLU(),                      \n",
    "            nn.MaxPool2d(2),                \n",
    "        )\n",
    "        # fully connected layer, output 10 classes\n",
    "        self.out = nn.Linear(32 * 7 * 7, 10)\n",
    "        self.softmax=nn.Softmax()\n",
    "        \n",
    "    def forward(self, x):\n",
    "        x = self.conv1(x)\n",
    "        x = self.conv2(x)\n",
    "        # flatten the output of conv2 to (batch_size, 32 * 7 * 7)\n",
    "        x = x.view(x.size(0), -1)       \n",
    "        output = self.softmax(self.out(x))\n",
    "        return output  # return x for visualization"
   ]
  },
  {
   "cell_type": "code",
   "execution_count": 18,
   "id": "4aca7666",
   "metadata": {},
   "outputs": [],
   "source": [
    "def getAccuracy(images,labels):\n",
    "    accuracy=[]\n",
    "    for i in range(len(images)):\n",
    "        if torch.argmax(images[i]).item()==labels[i].item():\n",
    "            accuracy.append(1)\n",
    "        else:\n",
    "            accuracy.append(0)\n",
    "    return sum(accuracy)/len(accuracy)\n",
    "\n",
    "def train(model,loader,criterion,optimizer,num_epochs=5):\n",
    "    metrics={\n",
    "        'Accuracy':[],\n",
    "        'Loss':[]\n",
    "    }\n",
    "    for epoch in range(num_epochs):\n",
    "        for images,labels in loader:\n",
    "            optimizer.zero_grad()\n",
    "            outputs=model(images)\n",
    "            # print(outputs)\n",
    "            loss=criterion(outputs,labels)\n",
    "            loss.backward()\n",
    "            optimizer.step()\n",
    "            metrics['Loss'].append(loss.item())\n",
    "            accuracy=getAccuracy(outputs,labels)\n",
    "            metrics['Accuracy'].append(accuracy)\n",
    "        print('Accuracy/Epoch:',100*sum(metrics['Accuracy'])/len(metrics['Accuracy']))\n",
    "        print('Loss/Epoch:',sum(metrics['Loss'])/len(metrics['Loss']))\n",
    "    return metrics\n",
    "    "
   ]
  },
  {
   "cell_type": "code",
   "execution_count": 19,
   "id": "e48e98c5",
   "metadata": {},
   "outputs": [],
   "source": [
    "model=Net()\n",
    "criterion=nn.CrossEntropyLoss()\n",
    "optimizer=torch.optim.Adam(model.parameters())"
   ]
  },
  {
   "cell_type": "code",
   "execution_count": 20,
   "id": "995b971d",
   "metadata": {},
   "outputs": [
    {
     "data": {
      "text/plain": [
       "Net(\n",
       "  (conv1): Sequential(\n",
       "    (0): Conv2d(1, 3, kernel_size=(5, 5), stride=(1, 1), padding=(2, 2))\n",
       "    (1): ReLU()\n",
       "    (2): MaxPool2d(kernel_size=2, stride=2, padding=0, dilation=1, ceil_mode=False)\n",
       "  )\n",
       "  (conv2): Sequential(\n",
       "    (0): Conv2d(3, 32, kernel_size=(5, 5), stride=(1, 1), padding=(2, 2))\n",
       "    (1): ReLU()\n",
       "    (2): MaxPool2d(kernel_size=2, stride=2, padding=0, dilation=1, ceil_mode=False)\n",
       "  )\n",
       "  (out): Linear(in_features=1568, out_features=10, bias=True)\n",
       "  (softmax): Softmax(dim=None)\n",
       ")"
      ]
     },
     "execution_count": 20,
     "metadata": {},
     "output_type": "execute_result"
    }
   ],
   "source": [
    "model"
   ]
  },
  {
   "cell_type": "code",
   "execution_count": 54,
   "id": "38885a7d",
   "metadata": {},
   "outputs": [
    {
     "name": "stderr",
     "output_type": "stream",
     "text": [
      "C:\\Users\\Ashwin\\AppData\\Local\\Temp\\ipykernel_11604\\895184374.py:29: UserWarning: Implicit dimension choice for softmax has been deprecated. Change the call to include dim=X as an argument.\n",
      "  output = self.softmax(self.out(x))\n"
     ]
    },
    {
     "name": "stdout",
     "output_type": "stream",
     "text": [
      "Accuracy/Epoch: 97.10654317697228\n",
      "Loss/Epoch: 1.4921538668400698\n"
     ]
    }
   ],
   "source": [
    "metrics=train(model,trainLoader,criterion,optimizer,num_epochs=1)"
   ]
  },
  {
   "cell_type": "code",
   "execution_count": 55,
   "id": "c70a6c92",
   "metadata": {},
   "outputs": [],
   "source": [
    "def plotMetrics(metric):\n",
    "    plt.figure(figsize=(8,8))\n",
    "    plt.plot([x for x in range(len(metric))],metric)"
   ]
  },
  {
   "cell_type": "code",
   "execution_count": 56,
   "id": "c1898e65",
   "metadata": {},
   "outputs": [
    {
     "data": {
      "image/png": "[encoded data removed]",
      "text/plain": [
       "<Figure size 576x576 with 1 Axes>"
      ]
     },
     "metadata": {
      "needs_background": "light"
     },
     "output_type": "display_data"
    }
   ],
   "source": [
    "plotMetrics(metrics['Loss'])"
   ]
  },
  {
   "cell_type": "code",
   "execution_count": 57,
   "id": "2de997ac",
   "metadata": {},
   "outputs": [
    {
     "data": {
      "text/plain": [
       "[<matplotlib.lines.Line2D at 0x225ff9514c0>]"
      ]
     },
     "execution_count": 57,
     "metadata": {},
     "output_type": "execute_result"
    },
    {
     "data": {
      "image/png": "[encoded data removed]",
      "text/plain": [
       "<Figure size 432x288 with 1 Axes>"
      ]
     },
     "metadata": {
      "needs_background": "light"
     },
     "output_type": "display_data"
    }
   ],
   "source": [
    "plt.plot(metrics['Accuracy'])"
   ]
  },
  {
   "cell_type": "code",
   "execution_count": 58,
   "id": "4bab069b",
   "metadata": {},
   "outputs": [
    {
     "name": "stdout",
     "output_type": "stream",
     "text": [
      "Accuracy of the network on the 10000 test images: 38 %\n"
     ]
    },
    {
     "name": "stderr",
     "output_type": "stream",
     "text": [
      "C:\\Users\\Ashwin\\AppData\\Local\\Temp\\ipykernel_11604\\895184374.py:29: UserWarning: Implicit dimension choice for softmax has been deprecated. Change the call to include dim=X as an argument.\n",
      "  output = self.softmax(self.out(x))\n"
     ]
    }
   ],
   "source": [
    "correct = 0\n",
    "total = 0\n",
    "with torch.no_grad():\n",
    "    for data in testLoader:\n",
    "        images, labels = data\n",
    "        outputs = model(images)\n",
    "        _, predicted = torch.max(outputs.data, 1)\n",
    "        total += labels.size(0)\n",
    "        correct += (predicted == labels).sum().item()\n",
    "\n",
    "print('Accuracy of the network on the 10000 test images: %d %%' % (\n",
    "    100 * correct / total))"
   ]
  },
  {
   "cell_type": "code",
   "execution_count": 59,
   "id": "711b51d6",
   "metadata": {},
   "outputs": [],
   "source": [
    "from torchvision.datasets import ImageFolder"
   ]
  },
  {
   "cell_type": "code",
   "execution_count": 60,
   "id": "bf1bf4c7",
   "metadata": {},
   "outputs": [],
   "source": [
    "sample_transforms=transforms.Compose([\n",
    "    transforms.Resize((30,30)),\n",
    "    transforms.ToTensor(),\n",
    "    transforms.Grayscale(),\n",
    "    transforms.CenterCrop((28,28)),\n",
    "    transforms.Normalize(mean=(0.1307,),std=(0.3081))\n",
    "])\n",
    "sample=ImageFolder(\"./sample\",transform=sample_transforms)"
   ]
  },
  {
   "cell_type": "code",
   "execution_count": 61,
   "id": "88812652",
   "metadata": {},
   "outputs": [
    {
     "data": {
      "text/plain": [
       "{'0': 0,\n",
       " '1': 1,\n",
       " '2': 2,\n",
       " '3': 3,\n",
       " '4': 4,\n",
       " '5': 5,\n",
       " '6': 6,\n",
       " '7': 7,\n",
       " '8': 8,\n",
       " '9': 9}"
      ]
     },
     "execution_count": 61,
     "metadata": {},
     "output_type": "execute_result"
    }
   ],
   "source": [
    "sample.class_to_idx"
   ]
  },
  {
   "cell_type": "code",
   "execution_count": 62,
   "id": "ef46e6b7",
   "metadata": {},
   "outputs": [],
   "source": [
    "testLoader=DataLoader(sample)"
   ]
  },
  {
   "cell_type": "code",
   "execution_count": 63,
   "id": "f9a80acf",
   "metadata": {},
   "outputs": [],
   "source": [
    "batch=iter(testLoader)\n",
    "img,l=next(batch)"
   ]
  },
  {
   "cell_type": "code",
   "execution_count": 64,
   "id": "28e07f4d",
   "metadata": {},
   "outputs": [
    {
     "data": {
      "text/plain": [
       "<matplotlib.image.AxesImage at 0x225860342b0>"
      ]
     },
     "execution_count": 64,
     "metadata": {},
     "output_type": "execute_result"
    },
    {
     "data": {
      "image/png": "[encoded data removed]",
      "text/plain": [
       "<Figure size 432x288 with 1 Axes>"
      ]
     },
     "metadata": {
      "needs_background": "light"
     },
     "output_type": "display_data"
    }
   ],
   "source": [
    "plt.imshow(torch.squeeze(img))"
   ]
  },
  {
   "cell_type": "code",
   "execution_count": 65,
   "id": "fc63bc25",
   "metadata": {},
   "outputs": [
    {
     "name": "stdout",
     "output_type": "stream",
     "text": [
      "tensor([0]) tensor([0])\n",
      "tensor([7]) tensor([1])\n",
      "tensor([2]) tensor([2])\n",
      "tensor([3]) tensor([3])\n",
      "tensor([0]) tensor([4])\n",
      "tensor([5]) tensor([5])\n",
      "tensor([5]) tensor([6])\n",
      "tensor([1]) tensor([7])\n",
      "tensor([1]) tensor([7])\n",
      "tensor([8]) tensor([8])\n",
      "tensor([2]) tensor([9])\n",
      "tensor([3]) tensor([9])\n",
      "tensor([4]) tensor([9])\n",
      "Accuracy of the network on the 10000 test images: 38 %\n"
     ]
    },
    {
     "name": "stderr",
     "output_type": "stream",
     "text": [
      "C:\\Users\\Ashwin\\AppData\\Local\\Temp\\ipykernel_11604\\895184374.py:29: UserWarning: Implicit dimension choice for softmax has been deprecated. Change the call to include dim=X as an argument.\n",
      "  output = self.softmax(self.out(x))\n"
     ]
    }
   ],
   "source": [
    "correct = 0\n",
    "total = 0\n",
    "wrong_images=[]\n",
    "with torch.no_grad():\n",
    "    for data in testLoader:\n",
    "        images, labels = data\n",
    "        outputs = model(images)\n",
    "        _, predicted = torch.max(outputs.data, 1)\n",
    "        print(predicted,labels)\n",
    "        if predicted != labels:\n",
    "            wrong_images.append([images,predicted])\n",
    "        total += labels.size(0)\n",
    "        correct += (predicted == labels).sum().item()\n",
    "\n",
    "print('Accuracy of the network on the 10000 test images: %d %%' % (\n",
    "    100 * correct / total))"
   ]
  },
  {
   "cell_type": "code",
   "execution_count": 66,
   "id": "3373b33c",
   "metadata": {},
   "outputs": [
    {
     "data": {
      "text/plain": [
       "8"
      ]
     },
     "execution_count": 66,
     "metadata": {},
     "output_type": "execute_result"
    }
   ],
   "source": [
    "len(wrong_images)"
   ]
  },
  {
   "cell_type": "code",
   "execution_count": 67,
   "id": "50cf2731",
   "metadata": {},
   "outputs": [
    {
     "data": {
      "text/plain": [
       "<matplotlib.image.AxesImage at 0x225fd883100>"
      ]
     },
     "execution_count": 67,
     "metadata": {},
     "output_type": "execute_result"
    },
    {
     "data": {
      "image/png": "[encoded data removed]",
      "text/plain": [
       "<Figure size 432x288 with 1 Axes>"
      ]
     },
     "metadata": {
      "needs_background": "light"
     },
     "output_type": "display_data"
    }
   ],
   "source": [
    "image=7\n",
    "plt.title(wrong_images[image][1])\n",
    "plt.imshow(torch.squeeze(wrong_images[image][0]),cmap=\"gray\")"
   ]
  },
  {
   "cell_type": "code",
   "execution_count": null,
   "id": "02c413f9",
   "metadata": {},
   "outputs": [
    {
     "name": "stdout",
     "output_type": "stream",
     "text": [
      "tensor([2])\n"
     ]
    }
   ],
   "source": [
    "print(wrong_images[0][1])"
   ]
  },
  {
   "cell_type": "code",
   "execution_count": null,
   "id": "5e5d2197",
   "metadata": {},
   "outputs": [],
   "source": []
  }
 ],
 "metadata": {
  "kernelspec": {
   "display_name": "Python 3 (ipykernel)",
   "language": "python",
   "name": "python3"
  },
  "language_info": {
   "codemirror_mode": {
    "name": "ipython",
    "version": 3
   },
   "file_extension": ".py",
   "mimetype": "text/x-python",
   "name": "python",
   "nbconvert_exporter": "python",
   "pygments_lexer": "ipython3",
   "version": "3.9.0"
  }
 },
 "nbformat": 4,
 "nbformat_minor": 5
}
