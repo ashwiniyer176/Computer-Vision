{
 "cells": [
  {
   "cell_type": "code",
   "execution_count": 1,
   "id": "d766393f",
   "metadata": {},
   "outputs": [],
   "source": [
    "import torch\n",
    "import torchvision\n",
    "from torchvision import datasets,transforms\n",
    "from torch.utils.data import DataLoader\n",
    "import numpy as np"
   ]
  },
  {
   "cell_type": "code",
   "execution_count": 2,
   "id": "f90d857d",
   "metadata": {},
   "outputs": [],
   "source": [
    "transform=transforms.Compose([\n",
    "    transforms.ToTensor(),\n",
    "    transforms.Normalize(mean=(0.1307,),std=(0.3081))\n",
    "])"
   ]
  },
  {
   "cell_type": "code",
   "execution_count": 4,
   "id": "888a09c4",
   "metadata": {},
   "outputs": [],
   "source": [
    "training_data=torchvision.datasets.MNIST(root='C:/Datasets',train=True, transform=transform,download=True)"
   ]
  },
  {
   "cell_type": "code",
   "execution_count": 5,
   "id": "361e981d",
   "metadata": {},
   "outputs": [],
   "source": [
    "trainLoader=DataLoader(training_data,batch_size=64,shuffle=True)"
   ]
  },
  {
   "cell_type": "code",
   "execution_count": 6,
   "id": "7fa4b967",
   "metadata": {},
   "outputs": [
    {
     "name": "stdout",
     "output_type": "stream",
     "text": [
      "torch.Size([64, 1, 28, 28]) torch.Size([64])\n"
     ]
    }
   ],
   "source": [
    "for images,labels in trainLoader:\n",
    "    print(images.size(),labels.size())\n",
    "    break\n",
    "    "
   ]
  },
  {
   "cell_type": "code",
   "execution_count": 7,
   "id": "fadaf90f",
   "metadata": {},
   "outputs": [],
   "source": [
    "batches=iter(trainLoader)"
   ]
  },
  {
   "cell_type": "code",
   "execution_count": 8,
   "id": "099241ce",
   "metadata": {},
   "outputs": [
    {
     "data": {
      "text/plain": [
       "<torch.utils.data.dataloader._SingleProcessDataLoaderIter at 0x18e94b70820>"
      ]
     },
     "execution_count": 8,
     "metadata": {},
     "output_type": "execute_result"
    }
   ],
   "source": [
    "batches"
   ]
  },
  {
   "cell_type": "code",
   "execution_count": 9,
   "id": "b526ebb2",
   "metadata": {},
   "outputs": [],
   "source": [
    "one_batch=next(batches)"
   ]
  },
  {
   "cell_type": "code",
   "execution_count": 10,
   "id": "5bd423ca",
   "metadata": {},
   "outputs": [
    {
     "data": {
      "text/plain": [
       "torch.Size([64])"
      ]
     },
     "execution_count": 10,
     "metadata": {},
     "output_type": "execute_result"
    }
   ],
   "source": [
    "one_batch[1].size()"
   ]
  },
  {
   "cell_type": "code",
   "execution_count": 11,
   "id": "a0cdd10e",
   "metadata": {},
   "outputs": [
    {
     "name": "stdout",
     "output_type": "stream",
     "text": [
      "torch.Size([64, 1, 28, 28]) torch.Size([64])\n"
     ]
    }
   ],
   "source": [
    "images,labels=one_batch\n",
    "print(images.size(),labels.size())"
   ]
  },
  {
   "cell_type": "code",
   "execution_count": 12,
   "id": "7cecb821",
   "metadata": {},
   "outputs": [],
   "source": [
    "import matplotlib.pyplot as plt"
   ]
  },
  {
   "cell_type": "code",
   "execution_count": 13,
   "id": "f838784a",
   "metadata": {},
   "outputs": [
    {
     "data": {
      "text/plain": [
       "<matplotlib.image.AxesImage at 0x18e9b682700>"
      ]
     },
     "execution_count": 13,
     "metadata": {},
     "output_type": "execute_result"
    },
    {
     "data": {
      "image/png": "[encoded data removed]",
      "text/plain": [
       "<Figure size 432x288 with 1 Axes>"
      ]
     },
     "metadata": {
      "needs_background": "light"
     },
     "output_type": "display_data"
    }
   ],
   "source": [
    "plt.imshow(torch.squeeze(images[0]),cmap='Greys_r')"
   ]
  },
  {
   "cell_type": "code",
   "execution_count": 14,
   "id": "b970b45d",
   "metadata": {},
   "outputs": [],
   "source": [
    "testing_data=torchvision.datasets.MNIST(root='C:/Datasets',train=False, transform=transform,download=True)"
   ]
  },
  {
   "cell_type": "code",
   "execution_count": 15,
   "id": "939915e9",
   "metadata": {},
   "outputs": [],
   "source": [
    "testLoader=DataLoader(testing_data,batch_size=64,shuffle=True)"
   ]
  },
  {
   "cell_type": "code",
   "execution_count": 16,
   "id": "349ce64d",
   "metadata": {},
   "outputs": [
    {
     "data": {
      "text/plain": [
       "64"
      ]
     },
     "execution_count": 16,
     "metadata": {},
     "output_type": "execute_result"
    }
   ],
   "source": [
    "len(one_batch[1])"
   ]
  },
  {
   "cell_type": "code",
   "execution_count": 17,
   "id": "2c4a4862",
   "metadata": {},
   "outputs": [],
   "source": [
    "import torch.nn as nn"
   ]
  },
  {
   "cell_type": "code",
   "execution_count": 18,
   "id": "742329b7",
   "metadata": {},
   "outputs": [],
   "source": [
    "class Net(torch.nn.Module):\n",
    "    def __init__(self):\n",
    "        super().__init__()\n",
    "        self.hidden=nn.Linear(28*28,512)\n",
    "        self.h2=nn.Linear(512,256)\n",
    "        self.output=nn.Linear(256,10)\n",
    "        self.sigmoid=nn.Sigmoid()\n",
    "        self.softmax=nn.Softmax(dim=1)\n",
    "    \n",
    "    def forward(self,x):\n",
    "        x=self.hidden(x)\n",
    "        x=self.sigmoid(x)\n",
    "        x=self.sigmoid(self.h2(x))\n",
    "        x=self.output(x)\n",
    "        x=self.softmax(x)\n",
    "        return x\n",
    "        "
   ]
  },
  {
   "cell_type": "code",
   "execution_count": 19,
   "id": "4aca7666",
   "metadata": {},
   "outputs": [],
   "source": [
    "def getAccuracy(images,labels):\n",
    "    accuracy=[]\n",
    "    for i in range(len(images)):\n",
    "        if torch.argmax(images[i]).item()==labels[i].item():\n",
    "            accuracy.append(1)\n",
    "        else:\n",
    "            accuracy.append(0)\n",
    "    return sum(accuracy)/len(accuracy)\n",
    "\n",
    "def train(model,loader,criterion,optimizer,num_epochs=5):\n",
    "    metrics={\n",
    "        'Accuracy':[],\n",
    "        'Loss':[]\n",
    "    }\n",
    "    for epoch in range(num_epochs):\n",
    "        for images,labels in loader:\n",
    "            optimizer.zero_grad()\n",
    "            images=images.view(images.shape[0],-1)\n",
    "            outputs=model(images)\n",
    "            loss=criterion(outputs,labels)\n",
    "            loss.backward()\n",
    "            optimizer.step()\n",
    "            metrics['Loss'].append(loss.item())\n",
    "            accuracy=getAccuracy(outputs,labels)\n",
    "            metrics['Accuracy'].append(accuracy)\n",
    "        print('Accuracy/Epoch:',100*sum(metrics['Accuracy'])/len(metrics['Accuracy']))\n",
    "        print('Loss/Epoch:',sum(metrics['Loss'])/len(metrics['Loss']))\n",
    "    return metrics\n",
    "    "
   ]
  },
  {
   "cell_type": "code",
   "execution_count": 20,
   "id": "e48e98c5",
   "metadata": {},
   "outputs": [],
   "source": [
    "model=Net()\n",
    "criterion=nn.CrossEntropyLoss()\n",
    "optimizer=torch.optim.Adam(model.parameters())"
   ]
  },
  {
   "cell_type": "code",
   "execution_count": 21,
   "id": "995b971d",
   "metadata": {},
   "outputs": [
    {
     "data": {
      "text/plain": [
       "Net(\n",
       "  (hidden): Linear(in_features=784, out_features=512, bias=True)\n",
       "  (h2): Linear(in_features=512, out_features=256, bias=True)\n",
       "  (output): Linear(in_features=256, out_features=10, bias=True)\n",
       "  (sigmoid): Sigmoid()\n",
       "  (softmax): Softmax(dim=1)\n",
       ")"
      ]
     },
     "execution_count": 21,
     "metadata": {},
     "output_type": "execute_result"
    }
   ],
   "source": [
    "model"
   ]
  },
  {
   "cell_type": "code",
   "execution_count": 22,
   "id": "38885a7d",
   "metadata": {},
   "outputs": [
    {
     "name": "stdout",
     "output_type": "stream",
     "text": [
      "Accuracy/Epoch: 84.99466950959489\n",
      "Loss/Epoch: 1.6244249584069892\n",
      "Accuracy/Epoch: 90.17607276119404\n",
      "Loss/Epoch: 1.5679496953101046\n",
      "Accuracy/Epoch: 92.3790644989339\n",
      "Loss/Epoch: 1.5440270909622533\n",
      "Accuracy/Epoch: 93.64672174840085\n",
      "Loss/Epoch: 1.5301738741682536\n",
      "Accuracy/Epoch: 94.48694029850746\n",
      "Loss/Epoch: 1.5210187177922425\n",
      "Accuracy/Epoch: 95.0926172707889\n",
      "Loss/Epoch: 1.5143890508583613\n",
      "Accuracy/Epoch: 95.55784533962839\n",
      "Loss/Epoch: 1.5092880139073475\n",
      "Accuracy/Epoch: 95.92030083955224\n",
      "Loss/Epoch: 1.5053417570650705\n",
      "Accuracy/Epoch: 96.21942371475953\n",
      "Loss/Epoch: 1.5020622264093428\n",
      "Accuracy/Epoch: 96.46255330490405\n",
      "Loss/Epoch: 1.4993957483183855\n"
     ]
    }
   ],
   "source": [
    "metrics=train(model,trainLoader,criterion,optimizer,num_epochs=10)"
   ]
  },
  {
   "cell_type": "code",
   "execution_count": 23,
   "id": "c70a6c92",
   "metadata": {},
   "outputs": [],
   "source": [
    "def plotMetrics(metric):\n",
    "    plt.figure(figsize=(8,8))\n",
    "    plt.plot([x for x in range(len(metric))],metric)"
   ]
  },
  {
   "cell_type": "code",
   "execution_count": 24,
   "id": "c1898e65",
   "metadata": {},
   "outputs": [
    {
     "data": {
      "image/png": "[encoded data removed]",
      "text/plain": [
       "<Figure size 576x576 with 1 Axes>"
      ]
     },
     "metadata": {
      "needs_background": "light"
     },
     "output_type": "display_data"
    }
   ],
   "source": [
    "plotMetrics(metrics['Loss'])"
   ]
  },
  {
   "cell_type": "code",
   "execution_count": 25,
   "id": "2de997ac",
   "metadata": {},
   "outputs": [
    {
     "data": {
      "text/plain": [
       "[<matplotlib.lines.Line2D at 0x18e9c386ca0>]"
      ]
     },
     "execution_count": 25,
     "metadata": {},
     "output_type": "execute_result"
    },
    {
     "data": {
      "image/png": "[encoded data removed]",
      "text/plain": [
       "<Figure size 432x288 with 1 Axes>"
      ]
     },
     "metadata": {
      "needs_background": "light"
     },
     "output_type": "display_data"
    }
   ],
   "source": [
    "plt.plot(metrics['Accuracy'])"
   ]
  },
  {
   "cell_type": "code",
   "execution_count": 26,
   "id": "4bab069b",
   "metadata": {},
   "outputs": [
    {
     "name": "stdout",
     "output_type": "stream",
     "text": [
      "Accuracy of the network on the 10000 test images: 97 %\n"
     ]
    }
   ],
   "source": [
    "correct = 0\n",
    "total = 0\n",
    "with torch.no_grad():\n",
    "    for data in testLoader:\n",
    "        images, labels = data\n",
    "        images=images.view(images.shape[0],-1)\n",
    "        outputs = model(images)\n",
    "        _, predicted = torch.max(outputs.data, 1)\n",
    "        total += labels.size(0)\n",
    "        correct += (predicted == labels).sum().item()\n",
    "\n",
    "print('Accuracy of the network on the 10000 test images: %d %%' % (\n",
    "    100 * correct / total))"
   ]
  },
  {
   "cell_type": "code",
   "execution_count": null,
   "id": "763327a1",
   "metadata": {},
   "outputs": [],
   "source": []
  }
 ],
 "metadata": {
  "kernelspec": {
   "display_name": "Python 3 (ipykernel)",
   "language": "python",
   "name": "python3"
  },
  "language_info": {
   "codemirror_mode": {
    "name": "ipython",
    "version": 3
   },
   "file_extension": ".py",
   "mimetype": "text/x-python",
   "name": "python",
   "nbconvert_exporter": "python",
   "pygments_lexer": "ipython3",
   "version": "3.9.5"
  }
 },
 "nbformat": 4,
 "nbformat_minor": 5
}
