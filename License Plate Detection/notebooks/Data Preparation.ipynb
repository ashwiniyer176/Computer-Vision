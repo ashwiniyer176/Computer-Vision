{
 "cells": [
  {
   "cell_type": "code",
   "execution_count": 1,
   "metadata": {},
   "outputs": [],
   "source": [
    "import numpy as np\n",
    "import pandas as pd\n",
    "import matplotlib.pyplot as plt\n",
    "import seaborn as sns\n",
    "%matplotlib inline"
   ]
  },
  {
   "cell_type": "code",
   "execution_count": 2,
   "metadata": {},
   "outputs": [],
   "source": [
    "import xml.etree.ElementTree as ET"
   ]
  },
  {
   "cell_type": "code",
   "execution_count": 3,
   "metadata": {},
   "outputs": [],
   "source": [
    "import os\n",
    "\n",
    "BASE_PATH=\"../data\"\n",
    "\n",
    "IMAGES_PATH=os.path.join(BASE_PATH,\"images\")\n",
    "ANNOTS_PATH=os.path.join(BASE_PATH,\"annotations\")\n"
   ]
  },
  {
   "cell_type": "code",
   "execution_count": 4,
   "metadata": {},
   "outputs": [],
   "source": [
    "from pathlib import Path\n",
    "\n",
    "def parsethefile(listOfFiles):\n",
    "    bounding_boxes=[]\n",
    "    for myFile in listOfFiles.iterdir():\n",
    "        filePath = myFile\n",
    "        parser = ET.XMLParser(encoding=\"utf-8\")\n",
    "        targetTree = ET.parse(filePath, parser=parser)\n",
    "        rootTag = targetTree.getroot()\n",
    "        box=[]\n",
    "        \n",
    "        # Get image name\n",
    "        box.append(rootTag[1].text)\n",
    "        \n",
    "        # Getting image dimensions\n",
    "        for child in rootTag[2]:\n",
    "            box.append(int(child.text))\n",
    "        \n",
    "        # Getting box coords \n",
    "        for child in rootTag[-1][-1]:\n",
    "            box.append(int(child.text))\n",
    "        bounding_boxes.append(box)\n",
    "    return bounding_boxes"
   ]
  },
  {
   "cell_type": "code",
   "execution_count": 5,
   "metadata": {},
   "outputs": [],
   "source": [
    "bounding_boxes=parsethefile(Path(ANNOTS_PATH))"
   ]
  },
  {
   "cell_type": "code",
   "execution_count": 11,
   "metadata": {},
   "outputs": [
    {
     "name": "stdout",
     "output_type": "stream",
     "text": [
      "433\n"
     ]
    }
   ],
   "source": [
    "print(len(bounding_boxes))"
   ]
  },
  {
   "cell_type": "code",
   "execution_count": 7,
   "metadata": {},
   "outputs": [],
   "source": [
    "df=pd.DataFrame(bounding_boxes,columns=[\"image\",\"width\",\"height\",\"depth\",\"xmin\",\"ymin\",\"xmax\",\"ymax\"])"
   ]
  },
  {
   "cell_type": "code",
   "execution_count": 8,
   "metadata": {},
   "outputs": [
    {
     "data": {
      "text/html": [
       "<div>\n",
       "<style scoped>\n",
       "    .dataframe tbody tr th:only-of-type {\n",
       "        vertical-align: middle;\n",
       "    }\n",
       "\n",
       "    .dataframe tbody tr th {\n",
       "        vertical-align: top;\n",
       "    }\n",
       "\n",
       "    .dataframe thead th {\n",
       "        text-align: right;\n",
       "    }\n",
       "</style>\n",
       "<table border=\"1\" class=\"dataframe\">\n",
       "  <thead>\n",
       "    <tr style=\"text-align: right;\">\n",
       "      <th></th>\n",
       "      <th>image</th>\n",
       "      <th>width</th>\n",
       "      <th>height</th>\n",
       "      <th>depth</th>\n",
       "      <th>xmin</th>\n",
       "      <th>ymin</th>\n",
       "      <th>xmax</th>\n",
       "      <th>ymax</th>\n",
       "    </tr>\n",
       "  </thead>\n",
       "  <tbody>\n",
       "    <tr>\n",
       "      <th>0</th>\n",
       "      <td>Cars0.png</td>\n",
       "      <td>500</td>\n",
       "      <td>268</td>\n",
       "      <td>3</td>\n",
       "      <td>226</td>\n",
       "      <td>125</td>\n",
       "      <td>419</td>\n",
       "      <td>173</td>\n",
       "    </tr>\n",
       "    <tr>\n",
       "      <th>1</th>\n",
       "      <td>Cars1.png</td>\n",
       "      <td>400</td>\n",
       "      <td>248</td>\n",
       "      <td>3</td>\n",
       "      <td>134</td>\n",
       "      <td>128</td>\n",
       "      <td>262</td>\n",
       "      <td>160</td>\n",
       "    </tr>\n",
       "    <tr>\n",
       "      <th>2</th>\n",
       "      <td>Cars10.png</td>\n",
       "      <td>400</td>\n",
       "      <td>225</td>\n",
       "      <td>3</td>\n",
       "      <td>140</td>\n",
       "      <td>5</td>\n",
       "      <td>303</td>\n",
       "      <td>148</td>\n",
       "    </tr>\n",
       "    <tr>\n",
       "      <th>3</th>\n",
       "      <td>Cars100.png</td>\n",
       "      <td>400</td>\n",
       "      <td>267</td>\n",
       "      <td>3</td>\n",
       "      <td>175</td>\n",
       "      <td>114</td>\n",
       "      <td>214</td>\n",
       "      <td>131</td>\n",
       "    </tr>\n",
       "    <tr>\n",
       "      <th>4</th>\n",
       "      <td>Cars101.png</td>\n",
       "      <td>400</td>\n",
       "      <td>300</td>\n",
       "      <td>3</td>\n",
       "      <td>167</td>\n",
       "      <td>202</td>\n",
       "      <td>240</td>\n",
       "      <td>220</td>\n",
       "    </tr>\n",
       "    <tr>\n",
       "      <th>...</th>\n",
       "      <td>...</td>\n",
       "      <td>...</td>\n",
       "      <td>...</td>\n",
       "      <td>...</td>\n",
       "      <td>...</td>\n",
       "      <td>...</td>\n",
       "      <td>...</td>\n",
       "      <td>...</td>\n",
       "    </tr>\n",
       "    <tr>\n",
       "      <th>428</th>\n",
       "      <td>Cars95.png</td>\n",
       "      <td>600</td>\n",
       "      <td>400</td>\n",
       "      <td>3</td>\n",
       "      <td>278</td>\n",
       "      <td>182</td>\n",
       "      <td>407</td>\n",
       "      <td>263</td>\n",
       "    </tr>\n",
       "    <tr>\n",
       "      <th>429</th>\n",
       "      <td>Cars96.png</td>\n",
       "      <td>400</td>\n",
       "      <td>248</td>\n",
       "      <td>3</td>\n",
       "      <td>133</td>\n",
       "      <td>126</td>\n",
       "      <td>261</td>\n",
       "      <td>160</td>\n",
       "    </tr>\n",
       "    <tr>\n",
       "      <th>430</th>\n",
       "      <td>Cars97.png</td>\n",
       "      <td>400</td>\n",
       "      <td>300</td>\n",
       "      <td>3</td>\n",
       "      <td>98</td>\n",
       "      <td>102</td>\n",
       "      <td>297</td>\n",
       "      <td>191</td>\n",
       "    </tr>\n",
       "    <tr>\n",
       "      <th>431</th>\n",
       "      <td>Cars98.png</td>\n",
       "      <td>370</td>\n",
       "      <td>400</td>\n",
       "      <td>3</td>\n",
       "      <td>85</td>\n",
       "      <td>196</td>\n",
       "      <td>247</td>\n",
       "      <td>259</td>\n",
       "    </tr>\n",
       "    <tr>\n",
       "      <th>432</th>\n",
       "      <td>Cars99.png</td>\n",
       "      <td>375</td>\n",
       "      <td>500</td>\n",
       "      <td>3</td>\n",
       "      <td>70</td>\n",
       "      <td>198</td>\n",
       "      <td>262</td>\n",
       "      <td>271</td>\n",
       "    </tr>\n",
       "  </tbody>\n",
       "</table>\n",
       "<p>433 rows × 8 columns</p>\n",
       "</div>"
      ],
      "text/plain": [
       "           image  width  height  depth  xmin  ymin  xmax  ymax\n",
       "0      Cars0.png    500     268      3   226   125   419   173\n",
       "1      Cars1.png    400     248      3   134   128   262   160\n",
       "2     Cars10.png    400     225      3   140     5   303   148\n",
       "3    Cars100.png    400     267      3   175   114   214   131\n",
       "4    Cars101.png    400     300      3   167   202   240   220\n",
       "..           ...    ...     ...    ...   ...   ...   ...   ...\n",
       "428   Cars95.png    600     400      3   278   182   407   263\n",
       "429   Cars96.png    400     248      3   133   126   261   160\n",
       "430   Cars97.png    400     300      3    98   102   297   191\n",
       "431   Cars98.png    370     400      3    85   196   247   259\n",
       "432   Cars99.png    375     500      3    70   198   262   271\n",
       "\n",
       "[433 rows x 8 columns]"
      ]
     },
     "execution_count": 8,
     "metadata": {},
     "output_type": "execute_result"
    }
   ],
   "source": [
    "df"
   ]
  },
  {
   "cell_type": "code",
   "execution_count": 9,
   "metadata": {},
   "outputs": [],
   "source": [
    "df.to_csv(\"../data/bounding_boxes.csv\")"
   ]
  },
  {
   "cell_type": "code",
   "execution_count": 10,
   "metadata": {},
   "outputs": [
    {
     "data": {
      "text/plain": [
       "image     Cars212.png\n",
       "width             400\n",
       "height            300\n",
       "depth               3\n",
       "xmin              105\n",
       "ymin               94\n",
       "xmax              290\n",
       "ymax              141\n",
       "Name: 127, dtype: object"
      ]
     },
     "execution_count": 10,
     "metadata": {},
     "output_type": "execute_result"
    }
   ],
   "source": [
    "INDEX=127\n",
    "df.iloc[INDEX,:]"
   ]
  },
  {
   "cell_type": "code",
   "execution_count": null,
   "metadata": {},
   "outputs": [],
   "source": []
  }
 ],
 "metadata": {
  "interpreter": {
   "hash": "36a19d3fa596a287609f4241e1c27c3ad55d13d0561ec8fe7bde05f634419b96"
  },
  "kernelspec": {
   "display_name": "Python 3.9.0 ('PyTorch')",
   "language": "python",
   "name": "python3"
  },
  "language_info": {
   "codemirror_mode": {
    "name": "ipython",
    "version": 3
   },
   "file_extension": ".py",
   "mimetype": "text/x-python",
   "name": "python",
   "nbconvert_exporter": "python",
   "pygments_lexer": "ipython3",
   "version": "3.9.0"
  },
  "orig_nbformat": 4
 },
 "nbformat": 4,
 "nbformat_minor": 2
}
